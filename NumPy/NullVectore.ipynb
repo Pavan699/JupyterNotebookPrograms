{
 "cells": [
  {
   "cell_type": "markdown",
   "metadata": {},
   "source": [
    "Python program to create a null vector of size 10 and update sixth value to 11."
   ]
  },
  {
   "cell_type": "code",
   "execution_count": 2,
   "metadata": {},
   "outputs": [
    {
     "name": "stdout",
     "output_type": "stream",
     "text": [
      "[0. 0. 0. 0. 0. 0. 0. 0. 0. 0.]\n",
      "[ 0.  0.  0.  0.  0.  0. 11.  0.  0.  0.]\n"
     ]
    }
   ],
   "source": [
    "'''\n",
    "@Author: Pavan Nakate\n",
    "@Date: 2021-11-17 11:02\n",
    "@Last Modified by: Pavan Nakate\n",
    "@Last Modified time: None\n",
    "@Title : NullVectore  \n",
    "'''\n",
    "import numpy as num\n",
    "\n",
    "try:\n",
    "    arr = num.zeros(10)\n",
    "    print(arr)\n",
    "    arr[6] = 11\n",
    "    print(arr)\n",
    "except Exception as e:\n",
    "    print(e)\n"
   ]
  }
 ],
 "metadata": {
  "interpreter": {
   "hash": "a70b4a337139263c4f530bff158cb4ef7162f785191fda5d8e58a8b998db2b95"
  },
  "kernelspec": {
   "display_name": "Python 3.9.6 64-bit",
   "language": "python",
   "name": "python3"
  },
  "language_info": {
   "codemirror_mode": {
    "name": "ipython",
    "version": 3
   },
   "file_extension": ".py",
   "mimetype": "text/x-python",
   "name": "python",
   "nbconvert_exporter": "python",
   "pygments_lexer": "ipython3",
   "version": "3.9.6"
  },
  "orig_nbformat": 4
 },
 "nbformat": 4,
 "nbformat_minor": 2
}
