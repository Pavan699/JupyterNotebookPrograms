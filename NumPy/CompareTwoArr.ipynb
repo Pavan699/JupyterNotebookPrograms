{
 "cells": [
  {
   "cell_type": "markdown",
   "metadata": {},
   "source": [
    "Python program compare two arrays using numpy."
   ]
  },
  {
   "cell_type": "code",
   "execution_count": 1,
   "metadata": {},
   "outputs": [
    {
     "name": "stdout",
     "output_type": "stream",
     "text": [
      "[1 2]\n",
      "[4 5]\n",
      "Is array1 greater than array2 :  [False False]\n",
      "Is array1 greater than equal to array2 :  [False False]\n",
      "Is array1 less than array2 :  [ True  True]\n",
      "Is array1 less than equal to  array2 :  [ True  True]\n"
     ]
    }
   ],
   "source": [
    "'''\n",
    "@Author: Pavan Nakate\n",
    "@Date: 2021-11-17 06:51\n",
    "@Last Modified by: Pavan Nakate\n",
    "@Last Modified time: None\n",
    "@Title : CompareTwoArr  \n",
    "'''\n",
    "import numpy as np\n",
    "\n",
    "try:\n",
    "    arr1 = np.array([1,2])\n",
    "    print(arr1)\n",
    "    arr2 = np.array([4,5])\n",
    "    print(arr2)\n",
    "\n",
    "    print(\"Is array1 greater than array2 : \",np.greater(arr1,arr2))\n",
    "    print(\"Is array1 greater than equal to array2 : \",np.greater_equal(arr1,arr2))\n",
    "    print(\"Is array1 less than array2 : \",np.less(arr1,arr2))\n",
    "    print(\"Is array1 less than equal to  array2 : \",np.less_equal(arr1,arr2))\n",
    "except Exception as e:\n",
    "    print(e)"
   ]
  }
 ],
 "metadata": {
  "interpreter": {
   "hash": "a70b4a337139263c4f530bff158cb4ef7162f785191fda5d8e58a8b998db2b95"
  },
  "kernelspec": {
   "display_name": "Python 3.9.6 64-bit",
   "language": "python",
   "name": "python3"
  },
  "language_info": {
   "codemirror_mode": {
    "name": "ipython",
    "version": 3
   },
   "file_extension": ".py",
   "mimetype": "text/x-python",
   "name": "python",
   "nbconvert_exporter": "python",
   "pygments_lexer": "ipython3",
   "version": "3.9.6"
  },
  "orig_nbformat": 4
 },
 "nbformat": 4,
 "nbformat_minor": 2
}
