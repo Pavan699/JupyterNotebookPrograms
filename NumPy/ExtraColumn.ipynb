{
 "cells": [
  {
   "cell_type": "markdown",
   "metadata": {},
   "source": [
    "Python program to how to add an extra column to an numpy array."
   ]
  },
  {
   "cell_type": "code",
   "execution_count": 4,
   "metadata": {},
   "outputs": [
    {
     "name": "stdout",
     "output_type": "stream",
     "text": [
      "Before Adding : \n",
      " [[10 20 30]\n",
      " [50 60 70]]\n",
      "After Adding: \n",
      "[[10 20 30 40]\n",
      " [50 60 70 80]]\n"
     ]
    }
   ],
   "source": [
    "'''\n",
    "@Author: Pavan Nakate\n",
    "@Date: 2021-11-17 09:55\n",
    "@Last Modified by: Pavan Nakate\n",
    "@Last Modified time: None\n",
    "@Title : ExtraColumn  \n",
    "'''\n",
    "import numpy as np\n",
    "\n",
    "try:\n",
    "    arr1 = np.array([[10,20,30], [50,60,70]])\n",
    "    print(\"Before Adding : \\n\",arr1)\n",
    "    arr2 = np.array([[40], [80]])\n",
    "    arr3 = np.concatenate((arr1, arr2), axis=1)\n",
    "    print(\"After Adding: \")\n",
    "    print(arr3)\n",
    "except Exception as e:\n",
    "    print(e)"
   ]
  }
 ],
 "metadata": {
  "interpreter": {
   "hash": "a70b4a337139263c4f530bff158cb4ef7162f785191fda5d8e58a8b998db2b95"
  },
  "kernelspec": {
   "display_name": "Python 3.9.6 64-bit",
   "language": "python",
   "name": "python3"
  },
  "language_info": {
   "codemirror_mode": {
    "name": "ipython",
    "version": 3
   },
   "file_extension": ".py",
   "mimetype": "text/x-python",
   "name": "python",
   "nbconvert_exporter": "python",
   "pygments_lexer": "ipython3",
   "version": "3.9.6"
  },
  "orig_nbformat": 4
 },
 "nbformat": 4,
 "nbformat_minor": 2
}
