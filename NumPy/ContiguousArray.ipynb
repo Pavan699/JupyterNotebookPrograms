{
 "cells": [
  {
   "cell_type": "markdown",
   "metadata": {},
   "source": [
    "Python program to create a contiguous flattened array."
   ]
  },
  {
   "cell_type": "code",
   "execution_count": 8,
   "metadata": {},
   "outputs": [
    {
     "name": "stdout",
     "output_type": "stream",
     "text": [
      "[[10 20 30]\n",
      " [50 40 45]]\n",
      "[[ 60  70  80]\n",
      " [ 90 100  95]]\n",
      "With axis 0 :  [[ 10  20  30]\n",
      " [ 50  40  45]\n",
      " [ 60  70  80]\n",
      " [ 90 100  95]]\n",
      "With axis 1 :  [[ 10  20  30  60  70  80]\n",
      " [ 50  40  45  90 100  95]]\n",
      "Contiguous Array :  [ 10  20  30  50  40  45  60  70  80  90 100  95]\n"
     ]
    }
   ],
   "source": [
    "'''\n",
    "@Author: Pavan Nakate\n",
    "@Date: 2021-11-17 07:09\n",
    "@Last Modified by: Pavan Nakate\n",
    "@Last Modified time: None\n",
    "@Title : ContigousArray  \n",
    "'''\n",
    "import numpy as np\n",
    "\n",
    "try:\n",
    "    arr1 = np.array([[10,20,30],[50,40,45]])\n",
    "    print(arr1)\n",
    "    arr2 = np.array([[60,70,80],[90,100,95]])\n",
    "    print(arr2)\n",
    "    print(\"With axis 0 : \",np.concatenate((arr1, arr2), axis=0))\n",
    "    print(\"With axis 1 : \",np.concatenate((arr1, arr2), axis=1))\n",
    "    print(\"Contiguous Array : \",np.concatenate((arr1,arr2), axis=None))\n",
    "\n",
    "except Exception as e:\n",
    "    print(e)"
   ]
  }
 ],
 "metadata": {
  "interpreter": {
   "hash": "a70b4a337139263c4f530bff158cb4ef7162f785191fda5d8e58a8b998db2b95"
  },
  "kernelspec": {
   "display_name": "Python 3.9.6 64-bit",
   "language": "python",
   "name": "python3"
  },
  "language_info": {
   "codemirror_mode": {
    "name": "ipython",
    "version": 3
   },
   "file_extension": ".py",
   "mimetype": "text/x-python",
   "name": "python",
   "nbconvert_exporter": "python",
   "pygments_lexer": "ipython3",
   "version": "3.9.6"
  },
  "orig_nbformat": 4
 },
 "nbformat": 4,
 "nbformat_minor": 2
}
