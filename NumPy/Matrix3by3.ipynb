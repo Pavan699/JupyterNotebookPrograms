{
 "cells": [
  {
   "cell_type": "markdown",
   "metadata": {},
   "source": [
    "3x3 matrix with values ranging from 2 to 10."
   ]
  },
  {
   "cell_type": "code",
   "execution_count": null,
   "metadata": {},
   "outputs": [],
   "source": [
    "'''\n",
    "@Author: Pavan Nakate\n",
    "@Date: 2021-11-17 10:22\n",
    "@Last Modified by: Pavan Nakate\n",
    "@Last Modified time: None\n",
    "@Title : Matrix3by3  \n",
    "'''\n",
    "import numpy as num\n",
    "\n",
    "try:\n",
    "    num_matrix = num.array([[2,3,4],[5,6,7],[8,9,10]])\n",
    "    print(\"Matrix : \")\n",
    "    print(num_matrix)\n",
    "except Exception as e:\n",
    "    print(e)"
   ]
  }
 ],
 "metadata": {
  "interpreter": {
   "hash": "a70b4a337139263c4f530bff158cb4ef7162f785191fda5d8e58a8b998db2b95"
  },
  "kernelspec": {
   "display_name": "Python 3.9.6 64-bit",
   "language": "python",
   "name": "python3"
  },
  "language_info": {
   "codemirror_mode": {
    "name": "ipython",
    "version": 3
   },
   "file_extension": ".py",
   "mimetype": "text/x-python",
   "name": "python",
   "nbconvert_exporter": "python",
   "pygments_lexer": "ipython3",
   "version": "3.9.6"
  },
  "orig_nbformat": 4
 },
 "nbformat": 4,
 "nbformat_minor": 2
}
