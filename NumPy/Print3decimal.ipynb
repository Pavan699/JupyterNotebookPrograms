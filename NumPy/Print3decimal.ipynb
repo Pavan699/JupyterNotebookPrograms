{
 "cells": [
  {
   "cell_type": "markdown",
   "metadata": {},
   "source": [
    "Python program to convert a NumPy array into Python list structure.\n",
    "Print array values with precision 3"
   ]
  },
  {
   "cell_type": "code",
   "execution_count": 1,
   "metadata": {},
   "outputs": [
    {
     "name": "stdout",
     "output_type": "stream",
     "text": [
      "[0.26153123 0.52760141 0.5718299  0.5927067  0.7831874  0.69746349\n",
      " 0.35399976 0.99469633 0.0694458  0.54711478]\n",
      "['0.262' '0.528' '0.572' '0.593' '0.783' '0.697' '0.354' '0.995' '0.069'\n",
      " '0.547']\n"
     ]
    }
   ],
   "source": [
    "'''\n",
    "@Author: Pavan Nakate\n",
    "@Date: 2021-11-17 10:40\n",
    "@Last Modified by: Pavan Nakate\n",
    "@Last Modified time: None\n",
    "@Title : Print3Decimal  \n",
    "'''\n",
    "import numpy as np\n",
    "\n",
    "try:\n",
    "    sample = np.array([0.26153123 ,0.52760141, 0.5718299, 0.5927067 ,0.7831874 ,0.69746349,0.35399976 ,0.99469633 ,0.0694458 ,0.54711478 ],np.float_)\n",
    "    print(sample)\n",
    "    data = []\n",
    "    for x in sample:\n",
    "        data.append(\"%.3f\" %x)\n",
    "\n",
    "    print(np.array(data))\n",
    "except Exception as e:\n",
    "    print(e)"
   ]
  }
 ],
 "metadata": {
  "interpreter": {
   "hash": "a70b4a337139263c4f530bff158cb4ef7162f785191fda5d8e58a8b998db2b95"
  },
  "kernelspec": {
   "display_name": "Python 3.9.6 64-bit",
   "language": "python",
   "name": "python3"
  },
  "language_info": {
   "codemirror_mode": {
    "name": "ipython",
    "version": 3
   },
   "file_extension": ".py",
   "mimetype": "text/x-python",
   "name": "python",
   "nbconvert_exporter": "python",
   "pygments_lexer": "ipython3",
   "version": "3.9.6"
  },
  "orig_nbformat": 4
 },
 "nbformat": 4,
 "nbformat_minor": 2
}
