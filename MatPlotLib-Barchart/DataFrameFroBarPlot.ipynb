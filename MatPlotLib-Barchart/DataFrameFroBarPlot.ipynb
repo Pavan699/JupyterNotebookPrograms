{
 "cells": [
  {
   "cell_type": "markdown",
   "metadata": {},
   "source": [
    "Python program to create bar plot from a DataFrame."
   ]
  },
  {
   "cell_type": "code",
   "execution_count": 2,
   "metadata": {},
   "outputs": [
    {
     "name": "stdout",
     "output_type": "stream",
     "text": [
      "[[4 8 5 7 6]\n",
      " [2 3 4 2 6]\n",
      " [4 7 4 7 8]\n",
      " [2 6 4 8 6]\n",
      " [2 4 3 3 2]]\n",
      "      a  b  c  d  e\n",
      "grp1  4  8  5  7  6\n",
      "grp2  2  3  4  2  6\n",
      "grp3  4  7  4  7  8\n",
      "grp4  2  6  4  8  6\n",
      "grp5  2  4  3  3  2\n"
     ]
    },
    {
     "data": {
      "image/png": "[encoded data removed]",
      "text/plain": [
       "<Figure size 432x288 with 1 Axes>"
      ]
     },
     "metadata": {
      "needs_background": "light"
     },
     "output_type": "display_data"
    }
   ],
   "source": [
    "'''\n",
    "@Author: Pavan Nakate\n",
    "@Date: 2021-11-19 09:43\n",
    "@Last Modified by: Pavan Nakate\n",
    "@Last Modified time: None\n",
    "@Title : DataFrameforBarPlot  \n",
    "'''\n",
    "from matplotlib import pyplot as plt\n",
    "import numpy as np\n",
    "import pandas as pd\n",
    "\n",
    "try:\n",
    "    a=np.array([[4,8,5,7,6],[2,3,4,2,6],[4,7,4,7,8],[2,6,4,8,6],[2,4,3,3,2]])\n",
    "    print(a)\n",
    "    index = ['grp1','grp2','grp3','grp4','grp5',]\n",
    "    df=pd.DataFrame(a, columns=['a','b','c','d','e'], index=index)\n",
    "    print(df)\n",
    "\n",
    "    df.plot(kind='bar')\n",
    "    plt.xlabel(\"Gropus\")\n",
    "    plt.ylabel(\"Scores\")\n",
    "    plt.title(\"Groups Scores Chart\")\n",
    "    plt.show()\n",
    "   \n",
    "except Exception as e:\n",
    "    print(e)"
   ]
  }
 ],
 "metadata": {
  "interpreter": {
   "hash": "a70b4a337139263c4f530bff158cb4ef7162f785191fda5d8e58a8b998db2b95"
  },
  "kernelspec": {
   "display_name": "Python 3.9.6 64-bit",
   "language": "python",
   "name": "python3"
  },
  "language_info": {
   "codemirror_mode": {
    "name": "ipython",
    "version": 3
   },
   "file_extension": ".py",
   "mimetype": "text/x-python",
   "name": "python",
   "nbconvert_exporter": "python",
   "pygments_lexer": "ipython3",
   "version": "3.9.6"
  },
  "orig_nbformat": 4
 },
 "nbformat": 4,
 "nbformat_minor": 2
}
