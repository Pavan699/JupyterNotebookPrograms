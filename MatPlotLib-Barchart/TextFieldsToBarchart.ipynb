{
 "cells": [
  {
   "cell_type": "markdown",
   "metadata": {},
   "source": [
    "Python program to create bar plots with errorbars on the same figure. Attach a text label above each bar displaying men means (integer value)."
   ]
  },
  {
   "cell_type": "code",
   "execution_count": 1,
   "metadata": {},
   "outputs": [
    {
     "data": {
      "image/png": "[encoded data removed]",
      "text/plain": [
       "<Figure size 432x288 with 1 Axes>"
      ]
     },
     "metadata": {
      "needs_background": "light"
     },
     "output_type": "display_data"
    }
   ],
   "source": [
    "'''\n",
    "@Author: Pavan Nakate\n",
    "@Date: 2021-11-19 10:13\n",
    "@Last Modified by: Pavan Nakate\n",
    "@Last Modified time: None\n",
    "@Title : TextFieldsToBarchart  \n",
    "'''\n",
    "from matplotlib import pyplot as plt\n",
    "import numpy as np\n",
    "\n",
    "def addLabel(x,y):\n",
    "        for i in range(len(x)):\n",
    "            plt.text(i, y[i], float(y[i]))\n",
    "\n",
    "try:\n",
    "    x= ['a', 'b', 'c', 'd', 'e']\n",
    "    men_means = (54.74, 42.35, 67.37, 58.24, 30.25)\n",
    "    men_std= (4, 3, 4, 1, 5)\n",
    "\n",
    "    x_axis = np.arange(len(x))     \n",
    "\n",
    "    plt.xticks(x_axis,x)\n",
    "\n",
    "    addLabel(x,men_means)\n",
    "\n",
    "    plt.bar(x_axis, men_means, width=0.35, color='cyan', yerr=men_std)\n",
    "    \n",
    "    plt.show()\n",
    "   \n",
    "except Exception as e:\n",
    "    print(e)"
   ]
  }
 ],
 "metadata": {
  "interpreter": {
   "hash": "a70b4a337139263c4f530bff158cb4ef7162f785191fda5d8e58a8b998db2b95"
  },
  "kernelspec": {
   "display_name": "Python 3.9.6 64-bit",
   "language": "python",
   "name": "python3"
  },
  "language_info": {
   "codemirror_mode": {
    "name": "ipython",
    "version": 3
   },
   "file_extension": ".py",
   "mimetype": "text/x-python",
   "name": "python",
   "nbconvert_exporter": "python",
   "pygments_lexer": "ipython3",
   "version": "3.9.6"
  },
  "orig_nbformat": 4
 },
 "nbformat": 4,
 "nbformat_minor": 2
}
