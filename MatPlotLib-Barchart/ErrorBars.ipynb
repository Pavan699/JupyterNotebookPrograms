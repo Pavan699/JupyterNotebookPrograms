{
 "cells": [
  {
   "cell_type": "markdown",
   "metadata": {},
   "source": [
    "Python program to create bar plots with error bars on the same figure."
   ]
  },
  {
   "cell_type": "code",
   "execution_count": 8,
   "metadata": {},
   "outputs": [
    {
     "data": {
      "image/png": "[encoded data removed]",
      "text/plain": [
       "<Figure size 432x288 with 1 Axes>"
      ]
     },
     "metadata": {
      "needs_background": "light"
     },
     "output_type": "display_data"
    }
   ],
   "source": [
    "'''\n",
    "@Author: Pavan Nakate\n",
    "@Date: 2021-11-19 09:52\n",
    "@Last Modified by: Pavan Nakate\n",
    "@Last Modified time: None\n",
    "@Title : ErrorBar  \n",
    "'''\n",
    "from matplotlib import pyplot as plt\n",
    "import numpy as np\n",
    "\n",
    "try:\n",
    "    mean_velocity = (54.74, 42.35, 67.37, 58.24, 30.25)\n",
    "    std_errors = (4, 3, 4, 1, 5)\n",
    "\n",
    "    x_axis = np.arange(1,6)    \n",
    "   \n",
    "    plt.bar(x_axis, mean_velocity, width = 0.35, yerr=std_errors, color='cyan')\n",
    "    plt.ylabel('Scores')\n",
    "    plt.xlabel('Velocity')\n",
    "    plt.title('Scores by Velocity')\n",
    "    \n",
    "    plt.show()\n",
    "   \n",
    "except Exception as e:\n",
    "    print(e)"
   ]
  }
 ],
 "metadata": {
  "interpreter": {
   "hash": "a70b4a337139263c4f530bff158cb4ef7162f785191fda5d8e58a8b998db2b95"
  },
  "kernelspec": {
   "display_name": "Python 3.9.6 64-bit",
   "language": "python",
   "name": "python3"
  },
  "language_info": {
   "codemirror_mode": {
    "name": "ipython",
    "version": 3
   },
   "file_extension": ".py",
   "mimetype": "text/x-python",
   "name": "python",
   "nbconvert_exporter": "python",
   "pygments_lexer": "ipython3",
   "version": "3.9.6"
  },
  "orig_nbformat": 4
 },
 "nbformat": 4,
 "nbformat_minor": 2
}
