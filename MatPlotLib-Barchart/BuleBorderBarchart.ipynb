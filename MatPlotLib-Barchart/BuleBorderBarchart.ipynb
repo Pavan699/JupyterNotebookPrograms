{
 "cells": [
  {
   "cell_type": "markdown",
   "metadata": {},
   "source": [
    "Python programming to display a bar chart of the popularity of programming Languages. Make blue border to each bar."
   ]
  },
  {
   "cell_type": "code",
   "execution_count": 3,
   "metadata": {},
   "outputs": [
    {
     "data": {
      "image/png": "[encoded data removed]",
      "text/plain": [
       "<Figure size 432x288 with 1 Axes>"
      ]
     },
     "metadata": {
      "needs_background": "light"
     },
     "output_type": "display_data"
    }
   ],
   "source": [
    "'''\n",
    "@Author: Pavan Nakate\n",
    "@Date: 2021-11-19 09:04\n",
    "@Last Modified by: Pavan Nakate\n",
    "@Last Modified time: None\n",
    "@Title : BlueBorderBarchart  \n",
    "'''\n",
    "from matplotlib import pyplot as plt\n",
    "\n",
    "try:\n",
    "    languages = ['Java', 'Python', 'PHP', 'JavaScript', 'C#', 'C++']\n",
    "    popularity = [22.2, 17.6, 8.8, 8, 7.7, 6.7]\n",
    "\n",
    "    plt.xlabel(\"Languages\")\n",
    "    plt.ylabel(\"Popularity\")\n",
    "    plt.title(\"Popularity of programming Languages\")\n",
    "\n",
    "    plt.bar(languages,popularity,color='gray',edgecolor='b')\n",
    "    plt.show()\n",
    "   \n",
    "except Exception as e:\n",
    "    print(e)"
   ]
  }
 ],
 "metadata": {
  "interpreter": {
   "hash": "a70b4a337139263c4f530bff158cb4ef7162f785191fda5d8e58a8b998db2b95"
  },
  "kernelspec": {
   "display_name": "Python 3.9.6 64-bit",
   "language": "python",
   "name": "python3"
  },
  "language_info": {
   "codemirror_mode": {
    "name": "ipython",
    "version": 3
   },
   "file_extension": ".py",
   "mimetype": "text/x-python",
   "name": "python",
   "nbconvert_exporter": "python",
   "pygments_lexer": "ipython3",
   "version": "3.9.6"
  },
  "orig_nbformat": 4
 },
 "nbformat": 4,
 "nbformat_minor": 2
}
