{
 "cells": [
  {
   "cell_type": "markdown",
   "metadata": {},
   "source": [
    "Python program to plot quantities which have an x and y position."
   ]
  },
  {
   "cell_type": "code",
   "execution_count": 5,
   "metadata": {},
   "outputs": [
    {
     "name": "stderr",
     "output_type": "stream",
     "text": [
      "No artists with labels found to put in legend.  Note that artists whose label start with an underscore are ignored when legend() is called with no argument.\n"
     ]
    },
    {
     "name": "stdout",
     "output_type": "stream",
     "text": [
      "[1, 2, 3, 4, 5, 6]\n",
      "[1, 4, 9, 16, 25, 36]\n",
      "[1, 8, 27, 64, 125, 216]\n"
     ]
    },
    {
     "data": {
      "image/png": "[encoded data removed]",
      "text/plain": [
       "<Figure size 432x288 with 1 Axes>"
      ]
     },
     "metadata": {
      "needs_background": "light"
     },
     "output_type": "display_data"
    }
   ],
   "source": [
    "'''\n",
    "@Author: Pavan Nakate\n",
    "@Date: 2021-11-19 03:33\n",
    "@Last Modified by: Pavan Nakate\n",
    "@Last Modified time: None\n",
    "@Title : PlotQuantities  \n",
    "'''\n",
    "from matplotlib import pyplot as plt\n",
    "\n",
    "try:\n",
    "    x = [1,2,3,4,5,6]\n",
    "    z = [s**2 for s in x] # Squres\n",
    "    y = [s**3 for s in x] # Cubes\n",
    "    print(x)\n",
    "    print(z)\n",
    "    print(y)\n",
    "\n",
    "    # Setting the axis limit\n",
    "    plt.axis([0, 7, -10, 250]) \n",
    "    # 'k*' -> k is black color and * is the point\n",
    "    # 'ro' -> r is red color and o is the point\n",
    "    plt.plot(x, z,'k*', x, y, 'ro')  \n",
    "\n",
    "    plt.xlabel(\"Numbers\")\n",
    "    plt.ylabel(\"Power of Numbers\")\n",
    "    plt.title(\"Two lines on same plot with legend\")\n",
    "\n",
    "    plt.legend()\n",
    "    plt.show()\n",
    "    \n",
    "except Exception as e:\n",
    "    print(e)"
   ]
  }
 ],
 "metadata": {
  "interpreter": {
   "hash": "a70b4a337139263c4f530bff158cb4ef7162f785191fda5d8e58a8b998db2b95"
  },
  "kernelspec": {
   "display_name": "Python 3.9.6 64-bit",
   "language": "python",
   "name": "python3"
  },
  "language_info": {
   "codemirror_mode": {
    "name": "ipython",
    "version": 3
   },
   "file_extension": ".py",
   "mimetype": "text/x-python",
   "name": "python",
   "nbconvert_exporter": "python",
   "pygments_lexer": "ipython3",
   "version": "3.9.6"
  },
  "orig_nbformat": 4
 },
 "nbformat": 4,
 "nbformat_minor": 2
}
